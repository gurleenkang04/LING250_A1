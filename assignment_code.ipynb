{
 "cells": [
  {
   "cell_type": "markdown",
   "id": "ce092a1f-f0cc-491d-a3ca-2458e6920607",
   "metadata": {},
   "source": [
    "# Assignment 1 analysis\n",
    "# Group GKY"
   ]
  },
  {
   "cell_type": "code",
   "execution_count": 32,
   "id": "475c0d97-3ca4-43d2-b333-6b7ad801e457",
   "metadata": {},
   "outputs": [],
   "source": [
    "import nltk\n",
    "from nltk.corpus import PlaintextCorpusReader\n",
    "corpus_root = \"corpus\"\n",
    "texts = PlaintextCorpusReader(corpus_root, '.*')\n"
   ]
  },
  {
   "cell_type": "markdown",
   "id": "b04473cf-ef5d-45f1-a9ed-6af5ac4f1656",
   "metadata": {},
   "source": [
    "### 1. The length (in words)"
   ]
  },
  {
   "cell_type": "code",
   "execution_count": 33,
   "id": "a4cb119b-82a6-4040-a0b1-da6e21be36bf",
   "metadata": {},
   "outputs": [
    {
     "name": "stdout",
     "output_type": "stream",
     "text": [
      "Subcorpora 1 is 21733 words.\n",
      "Subcorpora 2 is 60275 words.\n",
      "Subcorpora 3 is 8839 words.\n"
     ]
    }
   ],
   "source": [
    "def printLength(text, num):\n",
    "    print(\"Subcorpora \" + str(num) + \" is \" + str(len(text)) + \" words.\")\n",
    "\n",
    "text1 = texts.words('subcorpora1.txt')\n",
    "text2 = texts.words('subcorpora2.txt')\n",
    "text3 = texts.words('subcorpora3.txt')\n",
    "printLength(text1, 1)\n",
    "printLength(text2, 2)\n",
    "printLength(text3, 3)\n"
   ]
  },
  {
   "cell_type": "markdown",
   "id": "60932c69-2b0e-441d-9856-89057a20a430",
   "metadata": {},
   "source": [
    "### 2. The lexical diversity."
   ]
  },
  {
   "cell_type": "code",
   "execution_count": null,
   "id": "fcb4ce8b-6c4e-4cfb-adef-48659a42aa17",
   "metadata": {},
   "outputs": [],
   "source": [
    "# code here"
   ]
  },
  {
   "cell_type": "markdown",
   "id": "ec275b13-5cda-423f-9258-159a0ef7cd25",
   "metadata": {},
   "source": [
    "### 3. Top 10 most frequent words and their counts."
   ]
  },
  {
   "cell_type": "code",
   "execution_count": null,
   "id": "d78318f7-d251-4545-993b-7c20d7c4b175",
   "metadata": {},
   "outputs": [],
   "source": [
    "# code here"
   ]
  },
  {
   "cell_type": "markdown",
   "id": "1195fa0b-90c1-4187-85ca-657171b4ad2b",
   "metadata": {},
   "source": [
    "### 4. Words that are at least 10 characters long and their counts."
   ]
  },
  {
   "cell_type": "code",
   "execution_count": null,
   "id": "bbebe095-5671-4c6a-b66b-cfb127022017",
   "metadata": {},
   "outputs": [],
   "source": [
    "# code here"
   ]
  },
  {
   "cell_type": "markdown",
   "id": "a4b74a52-61cd-4958-9d4c-4e9fc88ac198",
   "metadata": {},
   "source": [
    "### 5. The longest sentence (type the sentence and give the number of words). Hint: look\n",
    "### at the Gutenberg part of Section 2.1 in NLTK. "
   ]
  },
  {
   "cell_type": "code",
   "execution_count": 76,
   "id": "fda65d97-9cd6-44ee-b280-77982e272b8d",
   "metadata": {},
   "outputs": [
    {
     "ename": "SyntaxError",
     "evalue": "unexpected character after line continuation character (2144388473.py, line 53)",
     "output_type": "error",
     "traceback": [
      "\u001b[1;36m  Cell \u001b[1;32mIn[76], line 53\u001b[1;36m\u001b[0m\n\u001b[1;33m    print(\\n)\u001b[0m\n\u001b[1;37m           ^\u001b[0m\n\u001b[1;31mSyntaxError\u001b[0m\u001b[1;31m:\u001b[0m unexpected character after line continuation character\n"
     ]
    }
   ],
   "source": [
    "subcorpora1_sentences = texts.sents('subcorpora1.txt')\n",
    "subcorpora2_sentences = texts.sents('subcorpora2.txt')\n",
    "subcorpora3_sentences = texts.sents('subcorpora3.txt')\n",
    "\n",
    "def find_longest(sentences):\n",
    "    longest_length = max(len(s) for s in sentences) \n",
    "    longest_sentence = [s for s in sentences if len(s) == longest_length]\n",
    "\n",
    "     # format each sentence properly\n",
    "    for sentence in longest_sentence:\n",
    "        formatted_sentence = ''\n",
    "        \n",
    "        for i, word in enumerate(sentence):\n",
    "            if i == 0:\n",
    "                # dont add a space before the first word in a sentence\n",
    "                formatted_sentence += word\n",
    "                \n",
    "            elif i > 0 and sentence[i-1] == '(':\n",
    "                # no space after '('\n",
    "                formatted_sentence += word\n",
    "                \n",
    "            elif word == ')':\n",
    "                # no space before ')'\n",
    "                formatted_sentence += word\n",
    "                \n",
    "            elif word == '-':\n",
    "                # no space before '-'\n",
    "                formatted_sentence += word\n",
    "                \n",
    "            elif i > 0 and sentence[i-1] == '-':\n",
    "                # no space after '-'\n",
    "                formatted_sentence += word\n",
    "                \n",
    "            elif word == \"’\":\n",
    "                # no space before '’'\n",
    "                formatted_sentence += word\n",
    "                \n",
    "            elif word in [',', '.', '!', '?', ':', ';', ')', ').']:\n",
    "                # check if word is punctuation (no space before punctuation)\n",
    "                formatted_sentence += word\n",
    "                \n",
    "            else:\n",
    "                # add a space before regular words\n",
    "                formatted_sentence += ' ' + word\n",
    "        \n",
    "        return formatted_sentence\n",
    "\n",
    "sentence1 = find_longest(subcorpora1_sentences)\n",
    "sentence2 = find_longest(subcorpora2_sentences)\n",
    "sentence3 = find_longest(subcorpora3_sentences)\n",
    "\n",
    "print(sentence1)\n",
    "print(\"\\n)\n",
    "print(sentence2)\n",
    "print(sentence3)"
   ]
  },
  {
   "cell_type": "markdown",
   "id": "45cb9e17-28e3-4abc-90b9-9094d85830f1",
   "metadata": {},
   "source": [
    "### 6. A stemmed version of the longest sentence. "
   ]
  },
  {
   "cell_type": "code",
   "execution_count": null,
   "id": "70b690db-a3af-489b-bc24-f3d1fa41e4ca",
   "metadata": {},
   "outputs": [],
   "source": [
    "# code here"
   ]
  }
 ],
 "metadata": {
  "kernelspec": {
   "display_name": "Python 3 (ipykernel)",
   "language": "python",
   "name": "python3"
  },
  "language_info": {
   "codemirror_mode": {
    "name": "ipython",
    "version": 3
   },
   "file_extension": ".py",
   "mimetype": "text/x-python",
   "name": "python",
   "nbconvert_exporter": "python",
   "pygments_lexer": "ipython3",
   "version": "3.12.7"
  }
 },
 "nbformat": 4,
 "nbformat_minor": 5
}
